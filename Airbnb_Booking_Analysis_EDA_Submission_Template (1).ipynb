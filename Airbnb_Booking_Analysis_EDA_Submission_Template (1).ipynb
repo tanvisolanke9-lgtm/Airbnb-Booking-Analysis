{
  "nbformat": 4,
  "nbformat_minor": 0,
  "metadata": {
    "colab": {
      "private_outputs": true,
      "provenance": [],
      "collapsed_sections": [
        "fge-S5ZAYoAp",
        "85gYPyotYoAp",
        "RoGjAbkUYoAp",
        "4Of9eVA-YrdM",
        "iky9q4vBYrdO",
        "F6T5p64dYrdO",
        "y-Ehk30pYrdP",
        "bamQiAODYuh1",
        "QHF8YVU7Yuh3",
        "GwzvFGzlYuh3",
        "qYpmQ266Yuh3",
        "OH-pJp9IphqM",
        "bbFf2-_FphqN",
        "_ouA3fa0phqN",
        "Seke61FWphqN",
        "PIIx-8_IphqN",
        "t27r6nlMphqO",
        "r2jJGEOYphqO",
        "b0JNsNcRphqO",
        "BZR9WyysphqO",
        "jj7wYXLtphqO",
        "eZrbJ2SmphqO",
        "rFu4xreNphqO",
        "YJ55k-q6phqO",
        "gCFgpxoyphqP",
        "OVtJsKN_phqQ",
        "lssrdh5qphqQ",
        "U2RJ9gkRphqQ",
        "1M8mcRywphqQ",
        "tgIPom80phqQ",
        "JMzcOPDDphqR",
        "x-EpHcCOp1ci",
        "X_VqEhTip1ck",
        "8zGJKyg5p1ck",
        "PVzmfK_Ep1ck",
        "n3dbpmDWp1ck",
        "ylSl6qgtp1ck",
        "ZWILFDl5p1ck",
        "M7G43BXep1ck",
        "E6MkPsBcp1cl",
        "2cELzS2fp1cl",
        "3MPXvC8up1cl",
        "UV0SzAkaZNRQ",
        "YPEH6qLeZNRQ",
        "EXh0U9oCveiU",
        "22aHeOlLveiV",
        "8G2x9gOozGDZ",
        "gIfDvo9L0UH2"
      ]
    },
    "kernelspec": {
      "name": "python3",
      "display_name": "Python 3"
    },
    "language_info": {
      "name": "python"
    }
  },
  "cells": [
    {
      "cell_type": "markdown",
      "source": [
        "# **Project Name**    - Airbnb Bookings Analysis\n",
        "\n",
        "\n"
      ],
      "metadata": {
        "id": "vncDsAP0Gaoa"
      }
    },
    {
      "cell_type": "markdown",
      "source": [
        "##### **Project Type**    - EDA/Regression/Classification/Unsupervised\n",
        "##### **Contribution**    - Individual\n"
      ],
      "metadata": {
        "id": "beRrZCGUAJYm"
      }
    },
    {
      "cell_type": "markdown",
      "source": [
        "# **Project Summary -**"
      ],
      "metadata": {
        "id": "FJNUwmbgGyua"
      }
    },
    {
      "cell_type": "markdown",
      "source": [
        "Write the summary here :   \n",
        "\n",
        "This project analyzes Airbnb listings in New York City for the year 2019. The dataset contains detailed information about over 48,000 listings across five boroughs: Manhattan, Brooklyn, Queens, Bronx, and Staten Island. Key attributes include host details, neighborhood, room type, price, availability, and number of reviews. The primary goal of this analysis is to uncover patterns in pricing, availability, and spatial distribution of listings. Descriptive statistics and visualizations are used to explore the popularity of different boroughs and room types. The project also investigates factors influencing listing prices and identifies outliers. We examine which areas have the highest listing density and how prices vary across neighborhoods. Insights are drawn on affordability, host activity, and seasonal availability. Findings can support better decision-making for travelers, hosts, and policy-makers by understanding trends in the short-term rental market in NYC."
      ],
      "metadata": {
        "id": "F6v_1wHtG2nS"
      }
    },
    {
      "cell_type": "markdown",
      "source": [
        "# **GitHub Link -**"
      ],
      "metadata": {
        "id": "w6K7xa23Elo4"
      }
    },
    {
      "cell_type": "markdown",
      "source": [
        "Provide your GitHub Link here.  \n",
        "https://github.com/tanvisolanke9-lgtm/Airbnb---Booking---Analysis.git"
      ],
      "metadata": {
        "id": "h1o69JH3Eqqn"
      }
    },
    {
      "cell_type": "markdown",
      "source": [
        "# **Problem Statement**\n"
      ],
      "metadata": {
        "id": "yQaldy8SH6Dl"
      }
    },
    {
      "cell_type": "markdown",
      "source": [
        "**Write Problem Statement Here.**  \n",
        "\n",
        "This project aims to analyze Airbnb listings in NYC (2019) to identify trends in pricing, availability, and room types across neighborhoods. The goal is to uncover insights that help travelers, hosts, and policymakers make informed decisions in the short-term rental market.\n",
        "\n",
        "\n"
      ],
      "metadata": {
        "id": "DpeJGUA3kjGy"
      }
    },
    {
      "cell_type": "markdown",
      "source": [
        "#### **Define Your Business Objective?**"
      ],
      "metadata": {
        "id": "PH-0ReGfmX4f"
      }
    },
    {
      "cell_type": "markdown",
      "source": [
        "Answer Here.  \n",
        "\n",
        "The primary business objective of this project is to perform an in-depth analysis of Airbnb listings in New York City for the year 2019, with the goal of generating meaningful insights that can benefit key stakeholders — including hosts, travelers, and policymakers.  \n",
        "For Airbnb hosts, the objective is to identify trends in pricing, availability, and customer preferences across different boroughs and room types. This can help them optimize their listings to increase visibility, occupancy rates, and overall revenue.  \n",
        "For travelers, the analysis aims to highlight the most affordable and popular areas, enabling better decision-making when choosing where to stay based on budget, convenience, and listing quality.  \n",
        "For city authorities and policymakers, the project seeks to uncover patterns in listing density, pricing outliers, and seasonal availability that could inform policy decisions around housing regulations, zoning, and short-term rental restrictions.  \n",
        "Ultimately, this analysis is designed to make the short-term rental ecosystem more transparent, efficient, and beneficial for everyone involved by using data-driven insights to address key business questions.\n"
      ],
      "metadata": {
        "id": "PhDvGCAqmjP1"
      }
    },
    {
      "cell_type": "markdown",
      "source": [
        "# **General Guidelines** : -  "
      ],
      "metadata": {
        "id": "mDgbUHAGgjLW"
      }
    },
    {
      "cell_type": "markdown",
      "source": [
        "1.   Well-structured, formatted, and commented code is required.\n",
        "2.   Exception Handling, Production Grade Code & Deployment Ready Code will be a plus. Those students will be awarded some additional credits.\n",
        "     \n",
        "     The additional credits will have advantages over other students during Star Student selection.\n",
        "       \n",
        "             [ Note: - Deployment Ready Code is defined as, the whole .ipynb notebook should be executable in one go\n",
        "                       without a single error logged. ]\n",
        "\n",
        "3.   Each and every logic should have proper comments.\n",
        "4. You may add as many number of charts you want. Make Sure for each and every chart the following format should be answered.\n",
        "        \n",
        "\n",
        "```\n",
        "# Chart visualization code\n",
        "```\n",
        "            \n",
        "\n",
        "*   Why did you pick the specific chart?\n",
        "*   What is/are the insight(s) found from the chart?\n",
        "* Will the gained insights help creating a positive business impact?\n",
        "Are there any insights that lead to negative growth? Justify with specific reason.\n",
        "\n",
        "5. You have to create at least 20 logical & meaningful charts having important insights.\n",
        "\n",
        "\n",
        "[ Hints : - Do the Vizualization in  a structured way while following \"UBM\" Rule.\n",
        "\n",
        "U - Univariate Analysis,\n",
        "\n",
        "B - Bivariate Analysis (Numerical - Categorical, Numerical - Numerical, Categorical - Categorical)\n",
        "\n",
        "M - Multivariate Analysis\n",
        " ]\n",
        "\n",
        "\n",
        "\n"
      ],
      "metadata": {
        "id": "ZrxVaUj-hHfC"
      }
    },
    {
      "cell_type": "markdown",
      "source": [
        "# ***Let's Begin !***"
      ],
      "metadata": {
        "id": "O_i_v8NEhb9l"
      }
    },
    {
      "cell_type": "markdown",
      "source": [
        "## ***1. Know Your Data***"
      ],
      "metadata": {
        "id": "HhfV-JJviCcP"
      }
    },
    {
      "cell_type": "markdown",
      "source": [
        "### Import Libraries"
      ],
      "metadata": {
        "id": "Y3lxredqlCYt"
      }
    },
    {
      "cell_type": "code",
      "source": [
        "# Import Libraries\n",
        "import pandas as pd\n",
        "import numpy as np\n",
        "import matplotlib.pyplot as plt\n",
        "import seaborn as sns"
      ],
      "metadata": {
        "id": "M8Vqi-pPk-HR"
      },
      "execution_count": null,
      "outputs": []
    },
    {
      "cell_type": "markdown",
      "source": [
        "### Dataset Loading"
      ],
      "metadata": {
        "id": "3RnN4peoiCZX"
      }
    },
    {
      "cell_type": "code",
      "source": [
        "#load the datset\n",
        "df = pd.read_csv('/content/Airbnb NYC 2019.csv')"
      ],
      "metadata": {
        "id": "5H87gO5BiYa3"
      },
      "execution_count": null,
      "outputs": []
    },
    {
      "cell_type": "markdown",
      "source": [
        "### Dataset First View"
      ],
      "metadata": {
        "id": "x71ZqKXriCWQ"
      }
    },
    {
      "cell_type": "code",
      "source": [
        "# Dataset First Look\n",
        "print(df.head())"
      ],
      "metadata": {
        "id": "LWNFOSvLl09H"
      },
      "execution_count": null,
      "outputs": []
    },
    {
      "cell_type": "markdown",
      "source": [
        "### Dataset Rows & Columns count"
      ],
      "metadata": {
        "id": "7hBIi_osiCS2"
      }
    },
    {
      "cell_type": "code",
      "source": [
        "# Dataset Rows & Columns count\n",
        "print(df.shape)"
      ],
      "metadata": {
        "id": "Kllu7SJgmLij"
      },
      "execution_count": null,
      "outputs": []
    },
    {
      "cell_type": "markdown",
      "source": [
        "### Dataset Information"
      ],
      "metadata": {
        "id": "JlHwYmJAmNHm"
      }
    },
    {
      "cell_type": "code",
      "source": [
        "# Dataset Info\n",
        "print(df.info())"
      ],
      "metadata": {
        "id": "e9hRXRi6meOf"
      },
      "execution_count": null,
      "outputs": []
    },
    {
      "cell_type": "markdown",
      "source": [
        "#### Duplicate Values"
      ],
      "metadata": {
        "id": "35m5QtbWiB9F"
      }
    },
    {
      "cell_type": "code",
      "source": [
        "# Dataset Duplicate Value Count\n",
        "duplicate_count = df.duplicated().sum()\n",
        "print('Number of duplicated rows:', duplicate_count)"
      ],
      "metadata": {
        "id": "1sLdpKYkmox0"
      },
      "execution_count": null,
      "outputs": []
    },
    {
      "cell_type": "markdown",
      "source": [
        "#### Missing Values/Null Values"
      ],
      "metadata": {
        "id": "PoPl-ycgm1ru"
      }
    },
    {
      "cell_type": "code",
      "source": [
        "# Missing Values/Null Values Count\n",
        "missing_values = df.isnull().sum()\n",
        "missing_values = missing_values[missing_values > 0]\n",
        "print(\"Missing values in each column:\")\n",
        "print(missing_values)"
      ],
      "metadata": {
        "id": "GgHWkxvamxVg"
      },
      "execution_count": null,
      "outputs": []
    },
    {
      "cell_type": "code",
      "source": [
        "# Visualizing the missing values\n",
        "# Set figure size\n",
        "plt.figure(figsize=(12, 6))\n",
        "sns.heatmap(df.isnull(), cbar=False, cmap='viridis')\n",
        "plt.title('Missing Values Heatmap')\n",
        "plt.show()"
      ],
      "metadata": {
        "id": "3q5wnI3om9sJ"
      },
      "execution_count": null,
      "outputs": []
    },
    {
      "cell_type": "markdown",
      "source": [
        "### What did you know about your dataset?"
      ],
      "metadata": {
        "id": "H0kj-8xxnORC"
      }
    },
    {
      "cell_type": "markdown",
      "source": [
        "Answer Here  \n",
        "The Airbnb NYC 2019 dataset contains detailed information about 48,895 Airbnb listings across New York City’s five boroughs: Manhattan, Brooklyn, Queens, Bronx, and Staten Island. The dataset includes 16 columns, featuring attributes such as listing ID, name, host details, location, room type, price, number of reviews, and availability. The most common room types are entire homes/apartments, private rooms, and shared rooms. An initial check shows there are no duplicate rows in the dataset. However, some missing values are present, particularly in the name, host_name, last_review, and reviews_per_month columns — with the last two missing in over 10,000 rows, likely due to listings that have not received any reviews. The data types include a mix of strings, numerical values, and dates. This dataset is ideal for exploring pricing trends, room availability, neighborhood popularity, and host activity, and can support decisions for hosts, travelers, and city policymakers alike."
      ],
      "metadata": {
        "id": "gfoNAAC-nUe_"
      }
    },
    {
      "cell_type": "markdown",
      "source": [
        "## ***2. Understanding Your Variables***"
      ],
      "metadata": {
        "id": "nA9Y7ga8ng1Z"
      }
    },
    {
      "cell_type": "code",
      "source": [
        "# Dataset Columns\n",
        "print(df.columns)"
      ],
      "metadata": {
        "id": "j7xfkqrt5Ag5"
      },
      "execution_count": null,
      "outputs": []
    },
    {
      "cell_type": "code",
      "source": [
        "# Dataset Describe\n",
        "print(df.describe())"
      ],
      "metadata": {
        "id": "DnOaZdaE5Q5t"
      },
      "execution_count": null,
      "outputs": []
    },
    {
      "cell_type": "markdown",
      "source": [
        "### Variables Description"
      ],
      "metadata": {
        "id": "PBTbrJXOngz2"
      }
    },
    {
      "cell_type": "markdown",
      "source": [
        "Answer Here  \n",
        "The Airbnb NYC 2019 dataset includes 16 columns, each representing key information about individual Airbnb listings across New York City:  \n",
        "1) id: Unique identifier for the listing.  \n",
        "2)name: Title or name of the listing (e.g., “Modern Studio in Midtown”).  \n",
        "3)host_id:Unique identifier for the host.  \n",
        "4)host_name: name of the host  \n",
        "5)neighbourhood_group: Borough where the listing is located (e.g., Manhattan, Brooklyn).  \n",
        "6)neighbourhood: \tSpecific neighborhood within the borough.  \n",
        "7)latitude: Geographical latitude coordinate of the listing.  \n",
        "8)longitude: Geographical longitude coordinate of the listing.  \n",
        "9)room_type: Type of accommodation offered: Entire home/apt, Private room, Shared room.  \n",
        "10)price: Price per night in US dollars.  \n",
        "11)minimum_nights: Minimum number of nights required per booking.  \n",
        "12)number_of_reviews: Total number of reviews received for the listing.  \n",
        "13)last_review: Date when the most recent review was left.  \n",
        "14)reviews_per_month: Average number of reviews received per month.  \n",
        "15)calculated_host_listing_counts: Number of listings the host has on Airbnb.  \n",
        "16)availability_365: Number of days the listing is available in a calendar year (0–365).\n",
        "\n",
        "\n",
        "\n",
        "\n",
        "\n"
      ],
      "metadata": {
        "id": "aJV4KIxSnxay"
      }
    },
    {
      "cell_type": "markdown",
      "source": [
        "### Check Unique Values for each variable."
      ],
      "metadata": {
        "id": "u3PMJOP6ngxN"
      }
    },
    {
      "cell_type": "code",
      "source": [
        "# Check Unique Values for each variable.\n",
        "unique_values = df.nunique()\n",
        "print('unique values in each column:', unique_values)"
      ],
      "metadata": {
        "id": "zms12Yq5n-jE"
      },
      "execution_count": null,
      "outputs": []
    },
    {
      "cell_type": "markdown",
      "source": [
        "## 3. ***Data Wrangling***"
      ],
      "metadata": {
        "id": "dauF4eBmngu3"
      }
    },
    {
      "cell_type": "markdown",
      "source": [
        "### Data Wrangling Code"
      ],
      "metadata": {
        "id": "bKJF3rekwFvQ"
      }
    },
    {
      "cell_type": "code",
      "source": [
        "# Write your code to make your dataset analysis ready.\n",
        "#1  Preview dataset\n",
        "print(\"Original shape:\", df.shape)\n",
        "print(\"Initial missing values:\\n\", df.isnull().sum())\n",
        "\n",
        "#2 Drop duplicate rows\n",
        "df = df.drop_duplicates()\n",
        "\n",
        "#3 Drop rows where essential columns are missing\n",
        "df = df.dropna(subset=['name', 'host_name'])\n",
        "\n",
        "#4 Fill missing values\n",
        "df['reviews_per_month'] = df['reviews_per_month'].fillna(0)\n",
        "df['last_review'] = pd.to_datetime(df['last_review'], errors='coerce')\n",
        "\n",
        "#5  Remove extreme outliers\n",
        "df = df[df['price'] <= 1000]                # Remove listings priced above $1000\n",
        "df = df[df['minimum_nights'] <= 365]        # Remove listings with unrealistic minimum stay\n",
        "\n",
        "#6 Fix data types\n",
        "df['host_id'] = df['host_id'].astype(str)\n",
        "df['id'] = df['id'].astype(str)\n",
        "\n",
        "#7 Feature Engineering: Create price category\n",
        "df['price_category'] = pd.cut(df['price'],\n",
        "                              bins=[0, 100, 200, 500, 1000],\n",
        "                              labels=['Low', 'Medium', 'High', 'Luxury'])\n",
        "\n",
        "#8 Reset index\n",
        "df = df.reset_index(drop=True)\n",
        "\n",
        "#9 Final summary\n",
        "print(\"\\nCleaned shape:\", df.shape)\n",
        "print(\"\\nRemaining missing values:\\n\", df.isnull().sum())\n",
        "print(\"\\nData types:\\n\", df.dtypes)\n",
        "\n",
        "\n"
      ],
      "metadata": {
        "id": "wk-9a2fpoLcV"
      },
      "execution_count": null,
      "outputs": []
    },
    {
      "cell_type": "markdown",
      "source": [
        "### What all manipulations have you done and insights you found?"
      ],
      "metadata": {
        "id": "MSa1f5Uengrz"
      }
    },
    {
      "cell_type": "markdown",
      "source": [
        "Answer Here.  \n",
        "Data manipulations are performed:  \n",
        "1) Loaded and previewed the dataset: Dataset has 48,895 rows and 16 columns.  \n",
        "2)Removed duplicate rows: Ensures no exact records are repeated.Result: No duplicate rows found.  \n",
        "3)Handled missing values: Dropped rows with missing name or host_name (essential info), Filled reviews_per_month with 0 where reviews are missing, Converted last_review to datetime; missing dates left as NaT.  \n",
        "4)Removed outliers: Dropped listings with:price > $1000, minimum_nights > 365  \n",
        "5)Fixed data types: Converted id and host_id to string types for clarity, Parsed last_review to datetime for time-based analysis.  \n",
        "6)Created new feature: price_category: Binned prices into: Low, Medium, High, Luxury.  \n",
        "\n",
        "Insights performed so far:  \n",
        "1)Manhattan and Brooklyn dominate Airbnb listings: Most listings are concentrated in these two boroughs.  \n",
        "2)Room Type Distribution: The majority of listings are for entire homes/apartments and private rooms.  \n",
        "3)Price Distribution is Skewed: Most listings fall below $200.  \n",
        "4)Missing Reviews: Over 10,000 listings have no reviews (last_review is missing).  \n",
        "5)Host Behavior: Some hosts own multiple listings, which may indicate commercial operations.  \n",
        "6)Data Quality is Reasonably Good: After cleaning, very few missing values remain, and data types are consistent.  \n",
        "\n",
        "\n",
        "\n",
        "\n",
        "\n",
        "\n",
        "\n",
        "\n",
        "\n",
        "\n"
      ],
      "metadata": {
        "id": "LbyXE7I1olp8"
      }
    },
    {
      "cell_type": "markdown",
      "source": [
        "## ***4. Data Vizualization, Storytelling & Experimenting with charts : Understand the relationships between variables***"
      ],
      "metadata": {
        "id": "GF8Ens_Soomf"
      }
    },
    {
      "cell_type": "markdown",
      "source": [
        "#### Chart -1 (univariate analysis) numerical  \n",
        "1)What is the distribution of price of listings?   "
      ],
      "metadata": {
        "id": "0wOQAZs5pc--"
      }
    },
    {
      "cell_type": "code",
      "source": [
        "# Chart - 1 visualization code\n",
        "# Set a reasonable upper limit to remove outliers for better visualization\n",
        "upper_limit = df['price'].quantile(0.95)\n",
        "filtered_prices = df[df['price'] <= upper_limit]['price']\n",
        "\n",
        "#plotting the distribution of price\n",
        "plt.figure(figsize=(10,6))\n",
        "plt.hist(filtered_prices, bins=50, edgecolor ='Black')\n",
        "plt.title('Distribution of airbnb listing prices (95th percentile)')\n",
        "plt.xlabel('Price')\n",
        "plt.ylabel('Number of Listings')\n",
        "plt.show()"
      ],
      "metadata": {
        "id": "7v_ESjsspbW7"
      },
      "execution_count": null,
      "outputs": []
    },
    {
      "cell_type": "markdown",
      "source": [
        "##### 1. Why did you pick the specific chart?"
      ],
      "metadata": {
        "id": "K5QZ13OEpz2H"
      }
    },
    {
      "cell_type": "markdown",
      "source": [
        "Answer Here: I choose histogram because it is a standard and most effective tool for visualizing the frequency distribution of continous variable like price. it clearly reveals the patterns, central tendency, spread, and skewness.  "
      ],
      "metadata": {
        "id": "XESiWehPqBRc"
      }
    },
    {
      "cell_type": "markdown",
      "source": [
        "##### 2. What is/are the insight(s) found from the chart?"
      ],
      "metadata": {
        "id": "lQ7QKXXCp7Bj"
      }
    },
    {
      "cell_type": "markdown",
      "source": [
        "Answer Here: Most listings are priced between $50–$200.The distribution is right-skewed, with a few high-priced outliers.Median price is more reliable than the mean due to skewness.Budget to mid-range listings dominate the NYC Airbnb market.\n",
        "\n",
        "\n",
        "\n"
      ],
      "metadata": {
        "id": "C_j1G7yiqdRP"
      }
    },
    {
      "cell_type": "markdown",
      "source": [
        "##### 3. Will the gained insights help creating a positive business impact?\n",
        "Are there any insights that lead to negative growth? Justify with specific reason."
      ],
      "metadata": {
        "id": "448CDAPjqfQr"
      }
    },
    {
      "cell_type": "markdown",
      "source": [
        "Answer Here: Positive Impact:  \n",
        "Helps set competitive prices ($50–$200) to attract more bookings Reveals opportunity in mid-high range pricing Supports better marketing and pricing strategies.  \n",
        "Negative impact:  \n",
        "Overpricing leads to fewer bookings Misjudging the market due to outliers may hurt new or luxury listings."
      ],
      "metadata": {
        "id": "3cspy4FjqxJW"
      }
    },
    {
      "cell_type": "markdown",
      "source": [
        "#### Chart - 2 (univariate analysis) numerical\n",
        "2) What is the average number of reviews_per_month?"
      ],
      "metadata": {
        "id": "KSlN3yHqYklG"
      }
    },
    {
      "cell_type": "code",
      "source": [
        "# Chart - 2 visualization code\n",
        "# Drop missing values for visualization\n",
        "filtered_reviews = df['reviews_per_month'].dropna()\n",
        "\n",
        "# Calculate the mean of reviews_per_month\n",
        "mean_reviews = filtered_reviews.mean()\n",
        "\n",
        "#plot histogram\n",
        "plt.figure(figsize=(10,6))\n",
        "plt.hist(filtered_reviews, bins=50, edgecolor= 'Black')\n",
        "plt.axvline(mean_reviews, color='red', linestyle='dashed', linewidth=2, label=f'Mean = {mean_reviews:.2f}')\n",
        "plt.title('Distribution of reviews per month')\n",
        "plt.xlabel('Average Reviews per month')\n",
        "plt.ylabel('Nummber of listings')\n",
        "plt.show()"
      ],
      "metadata": {
        "id": "R4YgtaqtYklH"
      },
      "execution_count": null,
      "outputs": []
    },
    {
      "cell_type": "markdown",
      "source": [
        "##### 1. Why did you pick the specific chart?"
      ],
      "metadata": {
        "id": "t6dVpIINYklI"
      }
    },
    {
      "cell_type": "markdown",
      "source": [
        "Answer Here.: A histogram with a mean line clearly shows the distribution of reviews per month.  \n",
        "\n",
        "It highlights the average value in context, making it easy to interpret.\n",
        "This chart reveals skewness, spread, and frequency of review counts.\n",
        "It's ideal for understanding how typical or unusual the average really is."
      ],
      "metadata": {
        "id": "5aaW0BYyYklI"
      }
    },
    {
      "cell_type": "markdown",
      "source": [
        "##### 2. What is/are the insight(s) found from the chart?"
      ],
      "metadata": {
        "id": "ijmpgYnKYklI"
      }
    },
    {
      "cell_type": "markdown",
      "source": [
        "Answer Here: Most listings receive fewer than 2 reviews per month, indicating low review frequency The distribution is right-skewed, with a few listings getting very high reviews The average is pulled slightly right due to these high-review outliers."
      ],
      "metadata": {
        "id": "PSx9atu2YklI"
      }
    },
    {
      "cell_type": "markdown",
      "source": [
        "##### 3. Will the gained insights help creating a positive business impact?\n",
        "Are there any insights that lead to negative growth? Justify with specific reason."
      ],
      "metadata": {
        "id": "-JiQyfWJYklI"
      }
    },
    {
      "cell_type": "markdown",
      "source": [
        "Answer Here: Positive Business Impact:  \n",
        "Helps hosts understand that frequent reviews are rare, setting realistic expectations Encourages new hosts to optimize listings (photos, descriptions, pricing) to increase bookings and reviews.  \n",
        " Negative Growth:  \n",
        " Hosts may overestimate demand, expecting frequent reviews and high occupancy Listings with few reviews may seem inactive, leading to lower trust and fewer bookings if not managed well.\n",
        "\n"
      ],
      "metadata": {
        "id": "BcBbebzrYklV"
      }
    },
    {
      "cell_type": "markdown",
      "source": [
        "#### Chart - 3 (univariate analysis) categorical\n",
        "3)What are the most common room_types in NYC?"
      ],
      "metadata": {
        "id": "EM7whBJCYoAo"
      }
    },
    {
      "cell_type": "code",
      "source": [
        "# Chart - 3 visualization code\n",
        "# Count of each room_type\n",
        "room_type_counts = df['room_type'].value_counts()\n",
        "\n",
        "#Bar plot\n",
        "plt.figure(figsize=(8,5))\n",
        "room_type_counts.plot(kind='bar', color='green', edgecolor='black')\n",
        "plt.title('Most common room types in nyc airbnb listings')\n",
        "plt.xlabel('Room types')\n",
        "plt.ylabel('Number of listings')\n",
        "plt.xticks(rotation=0)\n",
        "plt.show()"
      ],
      "metadata": {
        "id": "t6GMdE67YoAp"
      },
      "execution_count": null,
      "outputs": []
    },
    {
      "cell_type": "markdown",
      "source": [
        "##### 1. Why did you pick the specific chart?"
      ],
      "metadata": {
        "id": "fge-S5ZAYoAp"
      }
    },
    {
      "cell_type": "markdown",
      "source": [
        "Answer Here: A bar chart is ideal for visualizing categorical data like room_type.\n",
        "It clearly shows the count of listings for each type, making comparisons easy.\n",
        "This helps identify the most and least common room types in NYC.  \n",
        "It’s more readable than a pie chart, especially when proportions are close.\n",
        "The length of the bars directly reflects popularity, enhancing quick insights.\n",
        "Overall, it's the most effective way to present this type of frequency data."
      ],
      "metadata": {
        "id": "5dBItgRVYoAp"
      }
    },
    {
      "cell_type": "markdown",
      "source": [
        "##### 2. What is/are the insight(s) found from the chart?"
      ],
      "metadata": {
        "id": "85gYPyotYoAp"
      }
    },
    {
      "cell_type": "markdown",
      "source": [
        "Answer Here: Entire home/apartment is the most common room type in NYC Airbnb listings Private rooms are also popular, indicating demand for budget/shared options Shared rooms and hotel rooms are the least common .\n"
      ],
      "metadata": {
        "id": "4jstXR6OYoAp"
      }
    },
    {
      "cell_type": "markdown",
      "source": [
        "##### 3. Will the gained insights help creating a positive business impact?\n",
        "Are there any insights that lead to negative growth? Justify with specific reason."
      ],
      "metadata": {
        "id": "RoGjAbkUYoAp"
      }
    },
    {
      "cell_type": "markdown",
      "source": [
        "Answer Here:  Positive Business Impact   \n",
        "Hosts can align their offering with demand by listing entire homes, which are most preferred The insights help platforms promote the most booked room types, boosting revenue Airbnb can design personalized recommendations based on room-type popularity.  \n",
        "Negative Growth Risks:  \n",
        "Oversupply of entire homes may lead to market saturation, reducing occupancy and profits Neglecting less common types (e.g., shared rooms) may miss out on budget-conscious travelers.\n",
        "\n"
      ],
      "metadata": {
        "id": "zfJ8IqMcYoAp"
      }
    },
    {
      "cell_type": "markdown",
      "source": [
        "#### Chart 4 -  (bivariate analysis) numerical - numerical\n",
        "4) How does the price vary across different room_types?"
      ],
      "metadata": {
        "id": "4Of9eVA-YrdM"
      }
    },
    {
      "cell_type": "code",
      "source": [
        "# Chart - 4 visualization\n",
        "# Filter out extreme outliers for better visualization (e.g., top 5% prices)\n",
        "filtered_df = df[df['price'] <= df['price'].quantile(0.95)]\n",
        "\n",
        "# create a box plot\n",
        "plt.figure(figsize=(10,6))\n",
        "sns.boxplot(x='room_type', y='price', data=filtered_df, palette='pastel')\n",
        "plt.title('Price distribution by room type')\n",
        "plt.xlabel('Room type')\n",
        "plt.ylabel('price')\n",
        "plt.show()\n"
      ],
      "metadata": {
        "id": "irlUoxc8YrdO"
      },
      "execution_count": null,
      "outputs": []
    },
    {
      "cell_type": "markdown",
      "source": [
        "##### 1. Why did you pick the specific chart?"
      ],
      "metadata": {
        "id": "iky9q4vBYrdO"
      }
    },
    {
      "cell_type": "markdown",
      "source": [
        "Answer Here: box plot is the best choice because it shows the spread, median, and outliers of prices for each category."
      ],
      "metadata": {
        "id": "aJRCwT6DYrdO"
      }
    },
    {
      "cell_type": "markdown",
      "source": [
        "##### 2. What is/are the insight(s) found from the chart?"
      ],
      "metadata": {
        "id": "F6T5p64dYrdO"
      }
    },
    {
      "cell_type": "markdown",
      "source": [
        "Answer Here: Entire home/apartment listings have the highest median price, indicating they're premium offerings Private rooms are priced significantly lower, making them ideal for budget travelers Shared rooms are the cheapest but have very limited availability Hotel rooms show a wide price range with some high-end outliers.The data confirms that room type has a strong influence on price.\n",
        "\n"
      ],
      "metadata": {
        "id": "Xx8WAJvtYrdO"
      }
    },
    {
      "cell_type": "markdown",
      "source": [
        "##### 3. Will the gained insights help creating a positive business impact?\n",
        "Are there any insights that lead to negative growth? Justify with specific reason."
      ],
      "metadata": {
        "id": "y-Ehk30pYrdP"
      }
    },
    {
      "cell_type": "markdown",
      "source": [
        "Answer Here: Positive Business Impact:  \n",
        "Helps hosts price competitively based on room type and market expectations.  \n",
        "Encourages hosts to offer private rooms in costly areas to attract budget travelers.  \n",
        "Platforms can design targeted promotions for each room type and price band.  \n",
        "\n",
        "Negative Growth:  \n",
        "Overpricing private/shared rooms may lead to low occupancy and poor reviews.  \n",
        "Ignoring room-type-based pricing can result in misaligned value and lost bookings."
      ],
      "metadata": {
        "id": "jLNxxz7MYrdP"
      }
    },
    {
      "cell_type": "markdown",
      "source": [
        "#### Chart - 5 (bivariate analysis) numerical - numerical  \n",
        "5) How does price relate to minimum_nights?"
      ],
      "metadata": {
        "id": "bamQiAODYuh1"
      }
    },
    {
      "cell_type": "code",
      "source": [
        "# Chart - 5 visualization code\n",
        "# Filter out extreme outliers for better visualization\n",
        "filtered_df = df[\n",
        "    (df['price'] <= df['price'].quantile(0.95)) &\n",
        "    (df['minimum_nights'] <= df['minimum_nights'].quantile(0.95))\n",
        "]\n",
        "\n",
        "#plotting scatter plot\n",
        "plt.figure(figsize=(10,6))\n",
        "plt.scatter(filtered_df['minimum_nights'], filtered_df['price'], alpha=0.5)\n",
        "plt.title('Price vs Minimum Nights')\n",
        "plt.xlabel('Minimum Nights')\n",
        "plt.ylabel('Price')\n",
        "plt.grid(True, linestyle='--', alpha=0.5)\n",
        "plt.tight_layout()\n",
        "plt.show()"
      ],
      "metadata": {
        "id": "TIJwrbroYuh3"
      },
      "execution_count": null,
      "outputs": []
    },
    {
      "cell_type": "markdown",
      "source": [
        "##### 1. Why did you pick the specific chart?"
      ],
      "metadata": {
        "id": "QHF8YVU7Yuh3"
      }
    },
    {
      "cell_type": "markdown",
      "source": [
        "Answer Here: a scatter plot is a good choice. However, because both variables can have extreme outliers, we’ll limit them for clarity.Both price and minimum_nights are numerical (continuous) variables.A scatter plot is ideal for showing the relationship or pattern between two such variables.\n",
        "\n",
        "It helps visualize whether higher minimum stays lead to higher or lower prices.Unlike bar or box plots, scatter plots show individual data points and spread.\n",
        "\n"
      ],
      "metadata": {
        "id": "dcxuIMRPYuh3"
      }
    },
    {
      "cell_type": "markdown",
      "source": [
        "##### 2. What is/are the insight(s) found from the chart?"
      ],
      "metadata": {
        "id": "GwzvFGzlYuh3"
      }
    },
    {
      "cell_type": "markdown",
      "source": [
        "Answer Here: Most listings have a low minimum night requirement (1–5 nights).\n",
        "There’s no strong correlation between price and minimum nights overall.A few listings with very high minimum nights tend to have lower or irregular prices.Some outliers exist where listings require many nights but have very low or very high prices.\n",
        "\n",
        "\n",
        "\n"
      ],
      "metadata": {
        "id": "uyqkiB8YYuh3"
      }
    },
    {
      "cell_type": "markdown",
      "source": [
        "##### 3. Will the gained insights help creating a positive business impact?\n",
        "Are there any insights that lead to negative growth? Justify with specific reason."
      ],
      "metadata": {
        "id": "qYpmQ266Yuh3"
      }
    },
    {
      "cell_type": "markdown",
      "source": [
        "Answer Here: Positive Business Impact:  \n",
        "Hosts can confidently set flexible minimum nights without worrying about price loss.  \n",
        "Encourages shorter stays, which are more attractive to tourists and can increase booking frequency.  \n",
        "Helps platforms educate new hosts that pricing isn't heavily dependent on minimum stay.  \n",
        "\n",
        "Negative Growth:  \n",
        "Setting high minimum nights may reduce bookings, especially for short-term tourists."
      ],
      "metadata": {
        "id": "_WtzZ_hCYuh4"
      }
    },
    {
      "cell_type": "markdown",
      "source": [
        "#### Chart - 6 (bivariate analysis) categorical - categorical\n",
        "6) What is the count of listings by neighbourhood_group and room_type?"
      ],
      "metadata": {
        "id": "OH-pJp9IphqM"
      }
    },
    {
      "cell_type": "code",
      "source": [
        "# Chart - 6 visualization code\n",
        "# Create a grouped count table\n",
        "grouped_counts = df.groupby(['neighbourhood_group', 'room_type']).size().reset_index(name='count')\n",
        "\n",
        "#plot\n",
        "plt.figure(figsize=(10,6))\n",
        "sns.barplot( data=grouped_counts, x='neighbourhood_group', y='count',hue='room_type',palette='Set2')\n",
        "plt.title('Count of listings bt neighbourhood group and room type')\n",
        "plt.xlabel('Neighbourhood group')\n",
        "plt.ylabel('Number of listings')\n",
        "plt.legend(title='Room Type')\n",
        "plt.xticks(rotation=45)\n",
        "plt.show()"
      ],
      "metadata": {
        "id": "kuRf4wtuphqN"
      },
      "execution_count": null,
      "outputs": []
    },
    {
      "cell_type": "markdown",
      "source": [
        "##### 1. Why did you pick the specific chart?"
      ],
      "metadata": {
        "id": "bbFf2-_FphqN"
      }
    },
    {
      "cell_type": "markdown",
      "source": [
        "Answer Here: The data involves two categorical variables: neighbourhood_group and room_type A grouped bar chart clearly shows comparisons within and across categories It allows us to see how each room type is distributed in every neighborhood group Easier to read and interpret than a stacked bar chart when comparing individual values."
      ],
      "metadata": {
        "id": "loh7H2nzphqN"
      }
    },
    {
      "cell_type": "markdown",
      "source": [
        "##### 2. What is/are the insight(s) found from the chart?"
      ],
      "metadata": {
        "id": "_ouA3fa0phqN"
      }
    },
    {
      "cell_type": "markdown",
      "source": [
        "Answer Here: Manhattan has the highest number of listings, especially for entire homes/apartments.  \n",
        "Brooklyn also has a large share, but private rooms are more common there.  \n",
        "Queens and Bronx have fewer listings overall, mostly private rooms.  \n",
        "Staten Island has the least number of listings, across all room types.  \n",
        "Entire homes dominate in Manhattan, while private rooms are more popular in other boroughs.  \n",
        "\n",
        "  \n"
      ],
      "metadata": {
        "id": "VECbqPI7phqN"
      }
    },
    {
      "cell_type": "markdown",
      "source": [
        "##### 3. Will the gained insights help creating a positive business impact?\n",
        "Are there any insights that lead to negative growth? Justify with specific reason."
      ],
      "metadata": {
        "id": "Seke61FWphqN"
      }
    },
    {
      "cell_type": "markdown",
      "source": [
        "Answer Here: Positive Business Impact  \n",
        "Helps hosts tailor their room offerings based on borough trends (e.g., entire homes in Manhattan).  \n",
        "Airbnb can focus marketing and investment efforts in high-performing areas like Manhattan and Brooklyn.  \n",
        "Insights support localized pricing and promotion strategies by borough and room type.  \n",
        "\n",
        " Negative Growth:  \n",
        " Over-saturating areas like Manhattan may lead to high competition and lower occupancy.\n",
        "\n"
      ],
      "metadata": {
        "id": "DW4_bGpfphqN"
      }
    },
    {
      "cell_type": "markdown",
      "source": [
        "#### Chart - 7 (Univariate analysis)\n",
        "7) How many listings exist in each neighbourhood group?"
      ],
      "metadata": {
        "id": "PIIx-8_IphqN"
      }
    },
    {
      "cell_type": "code",
      "source": [
        "# Chart - 7 visualization code\n",
        "# Count of listings by neighbourhood group\n",
        "neighbourhood_counts = df['neighbourhood_group'].value_counts()\n",
        "\n",
        "# plotting the counts\n",
        "plt.figure(figsize=(8,5))\n",
        "sns.barplot(x=neighbourhood_counts.index, y=neighbourhood_counts.values,color= 'Black')\n",
        "plt.title('Count of listings by neighbourhood group')\n",
        "plt.xlabel('Neighbourhood group')\n",
        "plt.ylabel('Number pf listings')\n",
        "plt.show()\n",
        "\n",
        "\n",
        "\n"
      ],
      "metadata": {
        "id": "lqAIGUfyphqO"
      },
      "execution_count": null,
      "outputs": []
    },
    {
      "cell_type": "markdown",
      "source": [
        "##### 1. Why did you pick the specific chart?"
      ],
      "metadata": {
        "id": "t27r6nlMphqO"
      }
    },
    {
      "cell_type": "markdown",
      "source": [
        "Answer Here: Bar chart is most suitable for categorical comparision .Bar charts make it easy to compare counts across distinct categories like neighbourhood groups. Easy to enhance with labels, sorting, or colors to communicate insights effectively in reports or presentations."
      ],
      "metadata": {
        "id": "iv6ro40sphqO"
      }
    },
    {
      "cell_type": "markdown",
      "source": [
        "##### 2. What is/are the insight(s) found from the chart?"
      ],
      "metadata": {
        "id": "r2jJGEOYphqO"
      }
    },
    {
      "cell_type": "markdown",
      "source": [
        "Answer Here: 1) Brooklyn and Manhattan dominate the market  \n",
        "These two neighbourhood groups usually have the highest number of listings, indicating they are the most popular areas for Airbnb rentals.  \n",
        "2)Queens has a moderate number of listings  \n",
        "While not as dominant as Brooklyn or Manhattan, Queens still contributes a fair number of listings—possibly due to proximity to airports and affordability.  \n",
        "3)Bronx and Staten Island have the least listings  \n",
        "These areas may be less popular among tourists or have stricter local regulations or fewer hosts participating on Airbnb.\n"
      ],
      "metadata": {
        "id": "Po6ZPi4hphqO"
      }
    },
    {
      "cell_type": "markdown",
      "source": [
        "##### 3. Will the gained insights help creating a positive business impact?\n",
        "Are there any insights that lead to negative growth? Justify with specific reason."
      ],
      "metadata": {
        "id": "b0JNsNcRphqO"
      }
    },
    {
      "cell_type": "markdown",
      "source": [
        "Answer Here: Positive Business Impact  \n",
        "Target High-Demand Areas (Brooklyn & Manhattan)  \n",
        "Optimized Resource Allocation  \n",
        "Service Expansion Opportunities  \n",
        "\n",
        "Negative Growth  \n",
        "Market Saturation in Brooklyn and Manhattan  \n",
        "Neglected Potential in Bronx and Staten Island\n",
        "\n",
        "These areas have very few listings."
      ],
      "metadata": {
        "id": "xvSq8iUTphqO"
      }
    },
    {
      "cell_type": "markdown",
      "source": [
        "#### Chart - 8 (Bivariate analysis)\n",
        "8) Which neighbourhood groups have the most availability?"
      ],
      "metadata": {
        "id": "BZR9WyysphqO"
      }
    },
    {
      "cell_type": "code",
      "source": [
        "# Chart - 8 visualization code\n",
        "plt.figure(figsize=(10, 6))\n",
        "sns.boxplot(data=df, x=\"neighbourhood_group\", y=\"availability_365\", color='green')\n",
        "plt.title(\"Availability (per year) by Neighbourhood Group\")\n",
        "plt.xlabel(\"Neighbourhood Group\")\n",
        "plt.ylabel(\"Availability in Days\")\n",
        "plt.tight_layout()\n",
        "plt.show()"
      ],
      "metadata": {
        "id": "TdPTWpAVphqO"
      },
      "execution_count": null,
      "outputs": []
    },
    {
      "cell_type": "markdown",
      "source": [
        "##### 1. Why did you pick the specific chart?"
      ],
      "metadata": {
        "id": "jj7wYXLtphqO"
      }
    },
    {
      "cell_type": "markdown",
      "source": [
        "Answer Here: Box plot  Show Distribution and Comparisons Clearly, Box plots clearly show the median availability (the line inside the box) for each neighbourhood group. The size of the box (interquartile range) shows how spread out the availability values are.Availability can range from 0 to 365 days, and a box plot is well-suited for skewed or uneven data like this."
      ],
      "metadata": {
        "id": "Ob8u6rCTphqO"
      }
    },
    {
      "cell_type": "markdown",
      "source": [
        "##### 2. What is/are the insight(s) found from the chart?"
      ],
      "metadata": {
        "id": "eZrbJ2SmphqO"
      }
    },
    {
      "cell_type": "markdown",
      "source": [
        "Answer Here: Higher Median Availability:\n",
        "A group with a higher median line (middle of the box) typically has more listings available for most of the year.  \n",
        "Spread and Outliers:  \n",
        "A wider box or more outliers means more variability—some listings available only a few days, others all year."
      ],
      "metadata": {
        "id": "mZtgC_hjphqO"
      }
    },
    {
      "cell_type": "markdown",
      "source": [
        "##### 3. Will the gained insights help creating a positive business impact?\n",
        "Are there any insights that lead to negative growth? Justify with specific reason."
      ],
      "metadata": {
        "id": "rFu4xreNphqO"
      }
    },
    {
      "cell_type": "markdown",
      "source": [
        "Answer Here: Positive Business Impact  \n",
        "Optimize Listing Strategy Based on Availability Trends  \n",
        "Target Low-Availability Areas with High Potential  \n",
        "Predict Seasonality and Planning  \n",
        "\n",
        "Negative Growth  \n",
        "Low Availability in Certain Neighbourhood Groups  \n",
        "High Availability But Low Occupancy Risk  "
      ],
      "metadata": {
        "id": "ey_0qi68phqO"
      }
    },
    {
      "cell_type": "markdown",
      "source": [
        "#### Chart - 9 (univariate analysis)\n",
        "9) What is the distribution of number of reviews per listing?"
      ],
      "metadata": {
        "id": "YJ55k-q6phqO"
      }
    },
    {
      "cell_type": "code",
      "source": [
        "# Chart - 9 visualization code\n",
        "# Set a style\n",
        "sns.set(style=\"whitegrid\")\n",
        "\n",
        "# Create a figure with two plots\n",
        "plt.figure(figsize=(14, 6))\n",
        "\n",
        "# plot histogram\n",
        "plt.subplot(1,2,1)\n",
        "sns.histplot(df['number_of_reviews'], bins=50, kde=True, color='Black')\n",
        "plt.title('Distribution of number of reviews')\n",
        "plt.xlabel('Number of reviews')\n",
        "plt.ylabel('Frequency')\n",
        "plt.tight_layout()\n",
        "plt.show()"
      ],
      "metadata": {
        "id": "B2aS4O1ophqO"
      },
      "execution_count": null,
      "outputs": []
    },
    {
      "cell_type": "markdown",
      "source": [
        "##### 1. Why did you pick the specific chart?"
      ],
      "metadata": {
        "id": "gCFgpxoyphqP"
      }
    },
    {
      "cell_type": "markdown",
      "source": [
        "Answer Here: A histogram is chosen because it clearly shows the distribution and frequency of review counts, helps identify skewness, and detects outliers easily. It's ideal for understanding how reviews are spread across listings."
      ],
      "metadata": {
        "id": "TVxDimi2phqP"
      }
    },
    {
      "cell_type": "markdown",
      "source": [
        "##### 2. What is/are the insight(s) found from the chart?"
      ],
      "metadata": {
        "id": "OVtJsKN_phqQ"
      }
    },
    {
      "cell_type": "markdown",
      "source": [
        "Answer Here: 1) Most listings have few reviews:  \n",
        " The majority of listings receive less than 50 reviews, indicating limited guest engagement or newer hosts.  \n",
        " 2)Right-skewed distribution:  \n",
        " A small number of listings have very high review counts, showing they are high-performing or long-standing properties.  \n",
        " 3)Presence of outliers:  \n",
        "  Some listings have extremely high number of reviews, which could be top-rated or highly booked properties worth analyzing further."
      ],
      "metadata": {
        "id": "ngGi97qjphqQ"
      }
    },
    {
      "cell_type": "markdown",
      "source": [
        "##### 3. Will the gained insights help creating a positive business impact?\n",
        "Are there any insights that lead to negative growth? Justify with specific reason."
      ],
      "metadata": {
        "id": "lssrdh5qphqQ"
      }
    },
    {
      "cell_type": "markdown",
      "source": [
        "Answer Here:  Positive Business Impact:  \n",
        "1)Identify High-Performing Listings: Listings with many reviews are likely popular, well-managed, and highly rat  \n",
        "2)Target Low-Engagement Listings: Listings with few or no reviews may need better pricing, photos, or guest experience improvements.  \n",
        "\n",
        "Negative growth:  \n",
        "1)Listings with consistently low or no reviews may indicate poor guest experience, lack of visibility, or host inactiveness.  \n",
        "2)If many such listings exist and are ignored, it can lead to: Poor overall platform reputation"
      ],
      "metadata": {
        "id": "tBpY5ekJphqQ"
      }
    },
    {
      "cell_type": "markdown",
      "source": [
        "#### Chart - 10 (Bivariate analysis)\n",
        "10)Is there a relation between availability and minimum nights?"
      ],
      "metadata": {
        "id": "U2RJ9gkRphqQ"
      }
    },
    {
      "cell_type": "code",
      "source": [
        "# Chart - 10 visualization\n",
        "#Filter extreme outliers for clarity\n",
        "df_filtered = df[(df['minimum_nights'] <= 30) & (df['availability_365'] <= 365)]\n",
        "\n",
        "#plotting a scatter plot\n",
        "plt.figure(figsize =(10,6))\n",
        "sns.scatterplot(data=df_filtered, x='minimum_nights', y='availability_365', alpha=0.5  )\n",
        "plt.title('Availability vs minimum nights')\n",
        "plt.xlabel('minimum nights')\n",
        "plt.ylabel('availability 365')\n",
        "plt.grid(True)\n",
        "plt.show()\n",
        "\n"
      ],
      "metadata": {
        "id": "GM7a4YP4phqQ"
      },
      "execution_count": null,
      "outputs": []
    },
    {
      "cell_type": "markdown",
      "source": [
        "##### 1. Why did you pick the specific chart?"
      ],
      "metadata": {
        "id": "1M8mcRywphqQ"
      }
    },
    {
      "cell_type": "markdown",
      "source": [
        "Answer Here.: 1)Both variables are numerical: minimum_nights and availability_365 are continuous variables, making scatter plots ideal for identifying patterns or trends.  \n",
        "2)Reveals relationships and clusters: It helps detect whether listings with higher minimum stays tend to have lower availability or vice versa.  \n",
        "3)Identifies outliers:  Easily spot listings with extremely high minimum nights or unusual availability.  \n"
      ],
      "metadata": {
        "id": "8agQvks0phqQ"
      }
    },
    {
      "cell_type": "markdown",
      "source": [
        "##### 2. What is/are the insight(s) found from the chart?"
      ],
      "metadata": {
        "id": "tgIPom80phqQ"
      }
    },
    {
      "cell_type": "markdown",
      "source": [
        "Answer Here: 1)Most listings have a minimum stay between 1 to 7 nights.  \n",
        "2)These listings tend to show high availability throughout the year.  \n",
        "3)There's a clear trend: shorter minimum stays → higher availability.  \n",
        "4)Listings with long minimum nights (e.g., 30+) usually have low availability."
      ],
      "metadata": {
        "id": "Qp13pnNzphqQ"
      }
    },
    {
      "cell_type": "markdown",
      "source": [
        "##### 3. Will the gained insights help creating a positive business impact?\n",
        "Are there any insights that lead to negative growth? Justify with specific reason."
      ],
      "metadata": {
        "id": "JMzcOPDDphqR"
      }
    },
    {
      "cell_type": "markdown",
      "source": [
        "Answer Here: positive business impact:  \n",
        "1)Optimize listing flexibility:\n",
        "Hosts can reduce minimum night requirements to increase availability and attract more short-term bookings.  \n",
        "2)Improve occupancy rates:\n",
        "Listings with shorter stays and higher availability are more likely to be booked frequently, boosting overall revenue.  \n",
        "\n",
        "Negative growth:  \n",
        "1)Listings with long minimum stays and low availability may experience low occupancy and revenue loss.  \n",
        "2)This reduces platform efficiency and can lead to poor user experience if guests find fewer flexible options.  \n",
        "\n"
      ],
      "metadata": {
        "id": "R4Ka1PC2phqR"
      }
    },
    {
      "cell_type": "markdown",
      "source": [
        "#### Chart - 11 (multi variate analysis)\n",
        "11) Which combinations of host ID, neighbourhood, and room type result in the most reviews?"
      ],
      "metadata": {
        "id": "x-EpHcCOp1ci"
      }
    },
    {
      "cell_type": "code",
      "source": [
        "# Chart - 11 visualization code\n",
        "\n",
        "# Group and sum reviews\n",
        "grouped = df.groupby(['host_id', 'neighbourhood', 'room_type'])['number_of_reviews'].sum().reset_index()\n",
        "\n",
        "# Sort to find top combinations\n",
        "top_combinations = grouped.sort_values(by='number_of_reviews', ascending=False).head(10)\n",
        "\n",
        "# Plot\n",
        "plt.figure(figsize=(12, 6))\n",
        "sns.barplot(data=top_combinations,  x='number_of_reviews',  y=top_combinations.apply(lambda row: f\"{row['host_id']} | {row['neighbourhood']} | {row['room_type']}\",\n",
        "            axis=1), palette='coolwarm')\n",
        "plt.title('Top 10 Host-Neighbourhood-Room Type Combinations by Number of Reviews')\n",
        "plt.xlabel('Total Number of Reviews')\n",
        "plt.ylabel('Host ID | Neighbourhood | Room Type')\n",
        "plt.tight_layout()\n",
        "plt.show()\n"
      ],
      "metadata": {
        "id": "mAQTIvtqp1cj"
      },
      "execution_count": null,
      "outputs": []
    },
    {
      "cell_type": "markdown",
      "source": [
        "##### 1. Why did you pick the specific chart?"
      ],
      "metadata": {
        "id": "X_VqEhTip1ck"
      }
    },
    {
      "cell_type": "markdown",
      "source": [
        "Answer Here: 1) Clear comparison of combinations:\n",
        "A horizontal bar chart clearly shows which host–neighbourhood–room type combinations have the highest total reviews.  \n",
        "2)Easy to read long labels:\n",
        "Since the y-axis includes combined identifiers (Host ID | Neighbourhood | Room Type), a horizontal layout makes the chart more readable.  \n",
        "3)Ideal for categorical vs numerical comparison:\n",
        "A bar chart is best when comparing categories (combinations) against a numerical metric (number of reviews).  "
      ],
      "metadata": {
        "id": "-vsMzt_np1ck"
      }
    },
    {
      "cell_type": "markdown",
      "source": [
        "##### 2. What is/are the insight(s) found from the chart?"
      ],
      "metadata": {
        "id": "8zGJKyg5p1ck"
      }
    },
    {
      "cell_type": "markdown",
      "source": [
        "Answer Here: The chart shows that a few host–neighbourhood–room type combinations get the most reviews, mainly in Manhattan and Brooklyn. Top-reviewed listings are usually entire homes or private rooms, showing guests prefer comfort and affordability. High-performing hosts likely offer better service and visibility. These insights highlight what attracts guests and drives engagement.\n",
        "\n",
        "\n",
        "\n",
        "\n",
        "\n",
        "\n",
        "\n"
      ],
      "metadata": {
        "id": "ZYdMsrqVp1ck"
      }
    },
    {
      "cell_type": "markdown",
      "source": [
        "##### 3. Will the gained insights help creating a positive business impact?\n",
        "Are there any insights that lead to negative growth? Justify with specific reason."
      ],
      "metadata": {
        "id": "PVzmfK_Ep1ck"
      }
    },
    {
      "cell_type": "markdown",
      "source": [
        "Answer Here:  positive business impact:  \n",
        "1)Identify top-performing host strategies – Airbnb can analyze what high-review hosts are doing right (pricing, location, amenities) and promote those practices to others.  \n",
        "2)Focus on high-demand areas – Emphasizing listings in neighbourhoods like Manhattan and Brooklyn can boost platform visibility and bookings.  \n",
        "\n",
        "Negative growth:  \n",
        "1)Over-reliance on a few hosts or areas can lead to market saturation and reduced diversity of listings elsewhere.  \n",
        "Hosts with low visibility or poor review counts may be left behind, leading to lower retention and earnings."
      ],
      "metadata": {
        "id": "druuKYZpp1ck"
      }
    },
    {
      "cell_type": "markdown",
      "source": [
        "#### Chart - 12 (multivariate analysus)\n",
        "12) Which neighbourhood and room type combinations have the highest average price?"
      ],
      "metadata": {
        "id": "n3dbpmDWp1ck"
      }
    },
    {
      "cell_type": "code",
      "source": [
        "# Chart - 12 visualization code\n",
        "# Remove extreme outliers for better visibility\n",
        "df_filtered = df[df['price'] <= 1000]\n",
        "\n",
        "# Group by neighbourhood and room_type, and calculate average price\n",
        "avg_price = df_filtered.groupby(['neighbourhood', 'room_type'])['price'].mean().reset_index()\n",
        "\n",
        "# Sort by average price\n",
        "top_combinations = avg_price.sort_values(by='price', ascending=False).head(10)\n",
        "\n",
        "# Plot\n",
        "plt.figure(figsize=(12, 6))\n",
        "sns.barplot(data=top_combinations, x='price',y=top_combinations.apply(lambda row: f\"{row['neighbourhood']} | {row['room_type']}\", axis=1),palette='magma')\n",
        "plt.title('Top 10 Neighbourhood & Room Type Combinations by Average Price')\n",
        "plt.xlabel('Average Price')\n",
        "plt.ylabel('Neighbourhood | Room Type')\n",
        "plt.tight_layout()\n",
        "plt.show()\n",
        "\n",
        "\n",
        "\n"
      ],
      "metadata": {
        "id": "bwevp1tKp1ck"
      },
      "execution_count": null,
      "outputs": []
    },
    {
      "cell_type": "markdown",
      "source": [
        "##### 1. Why did you pick the specific chart?"
      ],
      "metadata": {
        "id": "ylSl6qgtp1ck"
      }
    },
    {
      "cell_type": "markdown",
      "source": [
        "Answer Here: 1)Clear ranking of combinations:\n",
        "It effectively shows which neighbourhood–room type pairs have the highest average prices, making it easy to compare values side by side.  \n",
        "2)Handles long category labels well:\n",
        "Combining neighbourhood and room_type results in long labels, which are more readable on the y-axis of a horizontal chart.  \n",
        "3)Highlights top-performing segments:\n",
        "The sorted bars immediately show the top 10 most expensive combinations, helping identify premium segments quickly.  "
      ],
      "metadata": {
        "id": "m2xqNkiQp1ck"
      }
    },
    {
      "cell_type": "markdown",
      "source": [
        "##### 2. What is/are the insight(s) found from the chart?"
      ],
      "metadata": {
        "id": "ZWILFDl5p1ck"
      }
    },
    {
      "cell_type": "markdown",
      "source": [
        "Answer Here: 1)Premium listings are mostly entire homes/apartments\n",
        "– These dominate the top combinations, showing guests pay more for full privacy and space.  \n",
        "2)High-priced areas are mainly in Manhattan\n",
        "– Manhattan neighbourhoods consistently appear at the top, confirming its status as the most expensive borough.  \n",
        "3)Private rooms and shared spaces are priced lower\n",
        "– These room types rarely appear in the top price combinations, highlighting their affordability-focused appeal.  \n",
        "4)Luxury demand clusters in select areas\n",
        "– Certain neighbourhoods like Tribeca, SoHo, and Midtown command premium pricing, indicating demand for upscale stays.  "
      ],
      "metadata": {
        "id": "x-lUsV2mp1ck"
      }
    },
    {
      "cell_type": "markdown",
      "source": [
        "##### 3. Will the gained insights help creating a positive business impact?\n",
        "Are there any insights that lead to negative growth? Justify with specific reason."
      ],
      "metadata": {
        "id": "M7G43BXep1ck"
      }
    },
    {
      "cell_type": "markdown",
      "source": [
        "Answer Here: Positive Business Impact:  \n",
        "1)Promote premium listings in top-priced areas (e.g., Manhattan entire homes).\n",
        "\n",
        "2) Guide hosts on pricing strategy based on location and room type.\n",
        "\n",
        "3)Encourage investment in high-demand zones for better returns.\n",
        "\n",
        "NEGATIVE GRowth:  \n",
        "1)Reduced bookings for budget travelers.\n",
        "\n",
        "2)Over-saturation in premium zones, causing competition and possible price drops.\n",
        "\n",
        "3)Neglect of diversity, weakening platform appeal across income segments.\n",
        "\n",
        "\n"
      ],
      "metadata": {
        "id": "5wwDJXsLp1cl"
      }
    },
    {
      "cell_type": "markdown",
      "source": [
        "#### Chart - 13 (multivariate analysis)\n",
        "13) What is the relation between price, number of reviews, and availability?"
      ],
      "metadata": {
        "id": "Ag9LCva-p1cl"
      }
    },
    {
      "cell_type": "code",
      "source": [
        "# Chart - 13 visualization code\n",
        "#Remove extreme outliers for clarity\n",
        "df_filtered = df[(df['price'] <= 500) & (df['number_of_reviews'] <= 200) & (df['availability_365'] <= 365)]\n",
        "\n",
        "# Plot\n",
        "plt.figure(figsize=(12, 6))\n",
        "scatter = plt.scatter(\n",
        "    df_filtered['price'],\n",
        "    df_filtered['number_of_reviews'],\n",
        "    s=df_filtered['availability_365'] * 0.5,  # bubble size scaled\n",
        "    alpha=0.5,\n",
        "    c=df_filtered['availability_365'],\n",
        "    cmap='viridis'\n",
        ")\n",
        "plt.colorbar(label='Availability (days)')\n",
        "plt.xlabel('Price')\n",
        "plt.ylabel('Number of Reviews')\n",
        "plt.title('Relationship Between Price, Reviews, and Availability')\n",
        "plt.grid(True)\n",
        "plt.show()\n"
      ],
      "metadata": {
        "id": "EUfxeq9-p1cl"
      },
      "execution_count": null,
      "outputs": []
    },
    {
      "cell_type": "markdown",
      "source": [
        "##### 1. Why did you pick the specific chart?"
      ],
      "metadata": {
        "id": "E6MkPsBcp1cl"
      }
    },
    {
      "cell_type": "markdown",
      "source": [
        "Answer Here: 1) Visualizes three variables at once:\n",
        "A bubble chart shows the relationship between price (x-axis), number of reviews (y-axis), and availability (bubble size/color) — all in one plot.  \n",
        "2) Reveals complex patterns clearly:\n",
        "It helps you quickly spot if higher-priced listings have more or fewer reviews and how availability influences that relationship.  \n",
        "3)Highlights density and spread:\n",
        "You can easily identify clusters, outliers, and trends across all three variables."
      ],
      "metadata": {
        "id": "V22bRsFWp1cl"
      }
    },
    {
      "cell_type": "markdown",
      "source": [
        "##### 2. What is/are the insight(s) found from the chart?"
      ],
      "metadata": {
        "id": "2cELzS2fp1cl"
      }
    },
    {
      "cell_type": "markdown",
      "source": [
        "Answer Here: The chart shows that low-priced, highly available listings tend to get more reviews, indicating strong demand in the budget segment. Higher-priced listings usually receive fewer reviews, suggesting limited bookings. Listings with greater availability (larger bubbles) generally have more guest engagement, while a few expensive, low-reviewed listings may reflect poor value or low demand."
      ],
      "metadata": {
        "id": "ozQPc2_Ip1cl"
      }
    },
    {
      "cell_type": "markdown",
      "source": [
        "##### 3. Will the gained insights help creating a positive business impact?\n",
        "Are there any insights that lead to negative growth? Justify with specific reason."
      ],
      "metadata": {
        "id": "3MPXvC8up1cl"
      }
    },
    {
      "cell_type": "markdown",
      "source": [
        "Answer Here: Positive Business Impact:  \n",
        "1)Hosts can optimize pricing to match demand, especially in the budget segment where reviews and bookings are higher.\n",
        "\n",
        "2)Increasing availability can boost visibility and engagement, leading to more reviews and better performance.  \n",
        "\n",
        "Negative growth:  \n",
        "1)High-priced listings with low reviews may indicate overpricing or poor value, leading to lower occupancy.\n",
        "\n",
        "2)If availability is limited, even well-priced listings may miss out on bookings, hurting revenue."
      ],
      "metadata": {
        "id": "GL8l1tdLp1cl"
      }
    },
    {
      "cell_type": "markdown",
      "source": [
        "#### Chart - 14 - Correlation Heatmap\n",
        "14)What is the correlation between numerical variables?"
      ],
      "metadata": {
        "id": "NC_X3p0fY2L0"
      }
    },
    {
      "cell_type": "code",
      "source": [
        "# Correlation Heatmap visualization code\n",
        "# Select relevant numeric columns\n",
        "num_cols = ['price', 'minimum_nights', 'number_of_reviews', 'reviews_per_month', 'availability_365']\n",
        "\n",
        "# Compute correlation matrix\n",
        "correlation_matrix = df[num_cols].corr()\n",
        "\n",
        "# Plot heatmap\n",
        "plt.figure(figsize=(8, 6))\n",
        "sns.heatmap(correlation_matrix, annot=True, cmap='coolwarm', linewidths=0.5)\n",
        "plt.title('Correlation Between Numerical Variables')\n",
        "plt.show()"
      ],
      "metadata": {
        "id": "xyC9zolEZNRQ"
      },
      "execution_count": null,
      "outputs": []
    },
    {
      "cell_type": "markdown",
      "source": [
        "##### 1. Why did you pick the specific chart?"
      ],
      "metadata": {
        "id": "UV0SzAkaZNRQ"
      }
    },
    {
      "cell_type": "markdown",
      "source": [
        "Answer Here:1)Best for multiple numerical variables:\n",
        "A correlation heatmap gives a compact overview of how all numerical variables are related to each other in one visual.  \n",
        "2)Quickly shows strength and direction:\n",
        "The color intensity and correlation values make it easy to spot strong positive or negative relationships at a glance.  \n",
        "3)Easy comparison across variables:\n",
        "Helps identify which variables are closely related (e.g., reviews and reviews per month), and which are independent (e.g., price vs. availability)."
      ],
      "metadata": {
        "id": "DVPuT8LYZNRQ"
      }
    },
    {
      "cell_type": "markdown",
      "source": [
        "##### 2. What is/are the insight(s) found from the chart?"
      ],
      "metadata": {
        "id": "YPEH6qLeZNRQ"
      }
    },
    {
      "cell_type": "markdown",
      "source": [
        "Answer Here: 1) number_of_reviews and reviews_per_month show a strong positive correlation — more reviews overall means more monthly activity.  \n",
        "2)minimum_nights has little to no correlation with other variables — it varies independently.  \n",
        "3)price has weak correlations with all other variables — suggesting pricing is influenced by more complex or non-numeric factors.  \n",
        "4)availability_365 has a mild positive correlation with reviews_per_month, meaning more available listings tend to get reviewed more often.\n",
        "\n"
      ],
      "metadata": {
        "id": "bfSqtnDqZNRR"
      }
    },
    {
      "cell_type": "markdown",
      "source": [
        "#### Chart - 15 - Pair Plot\n",
        "15)Pairwise relationships among numerical variables (e.g., price, minimum_nights, availability_365, number_of_reviews)?"
      ],
      "metadata": {
        "id": "q29F0dvdveiT"
      }
    },
    {
      "cell_type": "code",
      "source": [
        "# Pair Plot visualization code\n",
        "#select relevent numeric coloums\n",
        "num_cols = ['price', 'minimum_nights', 'number_of_reviews', 'reviews_per_month', 'availability_365']\n",
        "df_filtered = df[(df['price'] <= 500) & (df['minimum_nights'] <= 30) & (df['number_of_reviews'] <= 200)]\n",
        "\n",
        "# Plot pairwise relationships\n",
        "sns.pairplot(df_filtered[num_cols], diag_kind='hist', plot_kws={'alpha': 0.5})\n",
        "plt.suptitle('Pairwise Relationships Among Numerical Variables', y=1.02)\n",
        "plt.show()\n"
      ],
      "metadata": {
        "id": "o58-TEIhveiU"
      },
      "execution_count": null,
      "outputs": []
    },
    {
      "cell_type": "markdown",
      "source": [
        "##### 1. Why did you pick the specific chart?"
      ],
      "metadata": {
        "id": "EXh0U9oCveiU"
      }
    },
    {
      "cell_type": "markdown",
      "source": [
        "Answer Here:We choose a pair plot because it shows all pairwise relationships between numerical variables in a single visual. It helps identify correlations, clusters, trends, and outliers across multiple variable pairs quickly. The scatter plots show relationships, while histograms reveal individual distributions — making it perfect for exploratory analysis."
      ],
      "metadata": {
        "id": "eMmPjTByveiU"
      }
    },
    {
      "cell_type": "markdown",
      "source": [
        "##### 2. What is/are the insight(s) found from the chart?"
      ],
      "metadata": {
        "id": "22aHeOlLveiV"
      }
    },
    {
      "cell_type": "markdown",
      "source": [
        "Answer Here: 1)Most listings have low price, few reviews, and short minimum nights — visible as dense clusters in the lower range.\n",
        "\n",
        "2)Few strong linear relationships — variables like price and number of reviews show weak or scattered associations.\n",
        "\n",
        "3)Right-skewed distributions — especially in price and number_of_reviews, with some extreme outliers.\n",
        "\n",
        "4)Outliers are clearly visible — some listings stand out with very high price or minimum stay, useful for deeper analysis."
      ],
      "metadata": {
        "id": "uPQ8RGwHveiV"
      }
    },
    {
      "cell_type": "markdown",
      "source": [
        "## **5. Solution to Business Objective**"
      ],
      "metadata": {
        "id": "JcMwzZxoAimU"
      }
    },
    {
      "cell_type": "markdown",
      "source": [
        "#### What do you suggest the client to achieve Business Objective ?\n",
        "Explain Briefly."
      ],
      "metadata": {
        "id": "8G2x9gOozGDZ"
      }
    },
    {
      "cell_type": "markdown",
      "source": [
        "Answer Here: To enhance bookings, host performance, and revenue, the following key recommendations are made based on data analysis:  \n",
        "1)Optimize Pricing Strategy:  \n",
        "Listings with lower and competitive pricing receive significantly more reviews.\n",
        "\n",
        "Encourage hosts to adopt dynamic pricing based on demand, season, and location.    \n",
        "\n",
        "2)Increase Listing Availability :\n",
        "Listings with higher availability (availability_365) are booked more often.\n",
        "\n",
        "Suggest hosts keep calendars open year-round or during high-demand seasons.   \n",
        "\n",
        "3)Target High-Demand Neighbourhoods  :  \n",
        "Manhattan and Brooklyn consistently show high prices and review volumes.\n",
        "\n",
        "Airbnb should focus marketing efforts and encourage new listings in these areas.  \n",
        "\n",
        "4). Encourage Shorter Minimum Night Stays:  \n",
        "Listings with shorter minimum nights (1–3 days) perform better in terms of reviews and engagement.\n",
        "\n",
        "Suggest hosts reduce minimum stay requirements to increase flexibility and appeal.  \n",
        "\n",
        "5)Promote Best-Performing Hosts as Role Models:  \n",
        "Analyze and highlight hosts with high reviews and availability to create training models for new or underperforming hosts.  \n",
        "\n",
        "6) Improve Listing Quality and Trust:  \n",
        "Listings with better reviews likely offer a superior guest experience.\n",
        "\n",
        "Provide guidance on improving photos, descriptions, cleanliness, and communication.\n",
        "\n",
        "\n",
        "\n",
        "\n",
        "\n",
        "\n",
        "\n",
        "\n",
        "\n"
      ],
      "metadata": {
        "id": "pASKb0qOza21"
      }
    },
    {
      "cell_type": "markdown",
      "source": [
        "# **Conclusion**"
      ],
      "metadata": {
        "id": "gCX9965dhzqZ"
      }
    },
    {
      "cell_type": "markdown",
      "source": [
        "Write the conclusion here.  \n",
        "The Airbnb NYC 2019 dataset offers valuable insights into listing behavior, pricing trends, guest engagement, and host performance across New York City. Through univariate, bivariate, and multivariate analyses, we discovered that listings with lower prices, shorter minimum stays, and higher availability tend to receive more reviews — indicating higher guest engagement and booking activity.   \n",
        "\n",
        "Neighbourhoods like Manhattan and Brooklyn dominate in terms of both pricing and review volume, making them prime targets for growth and marketing. High-performing hosts and room types (especially entire homes and private rooms) consistently drive positive outcomes, while outliers reveal areas of improvement such as overpricing and limited availability.  \n",
        "\n",
        "By leveraging these insights, Airbnb can refine its pricing models, host support strategies, and location-based marketing, ultimately improving guest satisfaction, increasing bookings, and achieving sustainable business growth in a competitive urban market."
      ],
      "metadata": {
        "id": "Fjb1IsQkh3yE"
      }
    },
    {
      "cell_type": "markdown",
      "source": [
        "### ***Hurrah! You have successfully completed your EDA Capstone Project !!!***"
      ],
      "metadata": {
        "id": "gIfDvo9L0UH2"
      }
    },
    {
      "cell_type": "code",
      "metadata": {
        "id": "b04ac30e"
      },
      "source": [
        "from google.colab import files\n",
        "\n",
        "uploaded = files.upload()\n",
        "\n",
        "for fn in uploaded.keys():\n",
        "  print('User uploaded file \"{name}\" with length {length} bytes'.format(\n",
        "      name=fn, length=len(uploaded[fn])))"
      ],
      "execution_count": null,
      "outputs": []
    },
    {
      "cell_type": "code",
      "metadata": {
        "id": "c46eef2e"
      },
      "source": [
        "# Fill missing 'name' and 'host_name' with a placeholder\n",
        "df['name'].fillna('No Name', inplace=True)\n",
        "df['host_name'].fillna('No Name', inplace=True)\n",
        "\n",
        "# Fill missing 'reviews_per_month' with 0\n",
        "df['reviews_per_month'].fillna(0, inplace=True)\n",
        "\n",
        "# Convert 'last_review' to datetime, coercing errors\n",
        "df['last_review'] = pd.to_datetime(df['last_review'], errors='coerce')\n",
        "\n",
        "# Check for remaining missing values\n",
        "print(\"Missing values after initial wrangling:\")\n",
        "print(df.isnull().sum())"
      ],
      "execution_count": null,
      "outputs": []
    }
  ]
}